{
  "nbformat": 4,
  "nbformat_minor": 0,
  "metadata": {
    "colab": {
      "name": "Optical Character Recognition (OCR).ipynb",
      "provenance": [],
      "collapsed_sections": [
        "DO5TGOeg0agP",
        "DM0bNaxf0gUk"
      ]
    },
    "kernelspec": {
      "name": "python3",
      "display_name": "Python 3"
    },
    "language_info": {
      "name": "python"
    }
  },
  "cells": [
    {
      "cell_type": "markdown",
      "source": [
        "# Optical Character Recognition "
      ],
      "metadata": {
        "id": "DO5TGOeg0agP"
      }
    },
    {
      "cell_type": "markdown",
      "source": [
        "## Python-tesseract is a wrapper for Google's Tesseract-OCR Engine"
      ],
      "metadata": {
        "id": "DM0bNaxf0gUk"
      }
    },
    {
      "cell_type": "code",
      "source": [
        "!pip install pytesseract # This module helps convert images to text."
      ],
      "metadata": {
        "id": "IPthVZv90dLY"
      },
      "execution_count": null,
      "outputs": []
    },
    {
      "cell_type": "code",
      "source": [
        "import pytesseract\n",
        "pytesseract.pytesseract.tesseract_cmd=r'C:\\Program Files\\Tesseract-OCR\\tesseract.exe'\n",
        "# open source library for computer vision, machine learning, and image processing applications.\n",
        "# !pip install opencv-python"
      ],
      "metadata": {
        "id": "OTKt5SYtzKt6"
      },
      "execution_count": null,
      "outputs": []
    },
    {
      "cell_type": "code",
      "source": [
        "import cv2\n",
        "from PIL import Image\n",
        "from matplotlib import pyplot as plt\n",
        "import numpy as np\n",
        "import os"
      ],
      "metadata": {
        "id": "0cRHl0fKzNEA"
      },
      "execution_count": null,
      "outputs": []
    },
    {
      "cell_type": "code",
      "source": [
        "# image_name = 'Images/tax_ex.jpg'\n",
        "# image_name = 'Images/indonesian_passport_example.jpg'\n",
        "# image_name = 'Images/Stop_Sign.jpg'\n",
        "image_name = 'Images/Yield_Sign.jpg'"
      ],
      "metadata": {
        "id": "Y-6Sa3M8zOUR"
      },
      "execution_count": null,
      "outputs": []
    },
    {
      "cell_type": "code",
      "source": [
        "# Reading in sample image\n",
        "# sample_image\n",
        "image = cv2.imread(image_name)\n",
        "# If you want to resize image...\n",
        "# # image = cv2.resize(image, (500,500))"
      ],
      "metadata": {
        "id": "cvX-hkiwzRWn"
      },
      "execution_count": null,
      "outputs": []
    },
    {
      "cell_type": "code",
      "source": [
        "cv2.imshow(\"Sample Image\", image)\n",
        "# Extraction of text from image\n",
        "text = pytesseract.image_to_string(image)\n",
        "print(text)\n",
        "cv2.waitKey(0)\n",
        "cv2.destroyAllWindows()"
      ],
      "metadata": {
        "id": "2GrntpZszTaX"
      },
      "execution_count": null,
      "outputs": []
    },
    {
      "cell_type": "markdown",
      "source": [
        "## Attempting with Gray scale to get all lettering?"
      ],
      "metadata": {
        "id": "BwZ3fXrGzYoL"
      }
    },
    {
      "cell_type": "code",
      "source": [
        "# Reading in sample image\n",
        "image = cv2.imread(image_name)\n",
        "image = cv2.cvtColor(image, cv2.COLOR_BGR2GRAY) # Gray scale\n",
        "cv2.imshow(\"Grey Scaled Image\", image)\n",
        "# Extraction of text from image\n",
        "text = pytesseract.image_to_string(image)\n",
        "print(text)\n",
        "cv2.waitKey(0)\n",
        "cv2.destroyAllWindows()"
      ],
      "metadata": {
        "id": "KKOpphQHzUON"
      },
      "execution_count": null,
      "outputs": []
    },
    {
      "cell_type": "markdown",
      "source": [
        "## Gain Division (Normalization)"
      ],
      "metadata": {
        "id": "Xkat9BJLzdMR"
      }
    },
    {
      "cell_type": "code",
      "source": [
        "# Reading an image in default mode:\n",
        "image = cv2.imread(image_name)\n",
        "\n",
        "# Get local maximum:\n",
        "kernelSize = 5\n",
        "maxKernel = cv2.getStructuringElement(cv2.MORPH_RECT, (kernelSize, kernelSize))\n",
        "# processing ops. based on shapes\n",
        "localMax = cv2.morphologyEx(image, cv2.MORPH_CLOSE, maxKernel, None, None, 1, cv2.BORDER_REFLECT101) \n",
        "\n",
        "# Perform gain division\n",
        "gainDivision = np.where(localMax == 0, 0, (image/localMax))\n",
        "\n",
        "# Clip the values to [0,255]\n",
        "gainDivision = np.clip((255 * gainDivision), 0, 255)\n",
        "\n",
        "# Convert the mat type from float to uint8:\n",
        "gainDivision = gainDivision.astype(\"uint8\")"
      ],
      "metadata": {
        "id": "jPkXQWUezgzm"
      },
      "execution_count": null,
      "outputs": []
    },
    {
      "cell_type": "code",
      "source": [
        "cv2.imshow(\"White Background\", gainDivision) # (Already white background so not much happening here.)\n",
        "text = pytesseract.image_to_string(gainDivision)\n",
        "print(text)\n",
        "cv2.waitKey(0)\n",
        "cv2.destroyAllWindows()"
      ],
      "metadata": {
        "id": "1nZ8lO4szlEJ"
      },
      "execution_count": null,
      "outputs": []
    },
    {
      "cell_type": "markdown",
      "source": [
        "## Otsu's Thresholding"
      ],
      "metadata": {
        "id": "lNsNM-rhzm2k"
      }
    },
    {
      "cell_type": "code",
      "source": [
        "# Convert RGB to grayscale:\n",
        "grayscaleImage = cv2.cvtColor(gainDivision, cv2.COLOR_BGR2GRAY)\n",
        "\n",
        "# Get binary image via Otsu:\n",
        "_, binaryImage = cv2.threshold(grayscaleImage, 0, 255, cv2.THRESH_BINARY_INV + cv2.THRESH_OTSU)"
      ],
      "metadata": {
        "id": "gX8h8ZNczvGw"
      },
      "execution_count": null,
      "outputs": []
    },
    {
      "cell_type": "code",
      "source": [
        "cv2.imshow(\"Otsu Thresholding\", binaryImage)\n",
        "text = pytesseract.image_to_string(binaryImage)\n",
        "print(text)\n",
        "cv2.waitKey(0)\n",
        "cv2.destroyAllWindows()"
      ],
      "metadata": {
        "id": "-csyke4pzxSP"
      },
      "execution_count": null,
      "outputs": []
    },
    {
      "cell_type": "markdown",
      "source": [
        "## Ensure closing of characters (for background color filling)"
      ],
      "metadata": {
        "id": "qJTti0AVz0t6"
      }
    },
    {
      "cell_type": "code",
      "source": [
        "# Set kernel (structuring element) size:\n",
        "kernelSize = 3\n",
        "# Set morph operation iterations:\n",
        "opIterations = 1\n",
        "\n",
        "# Get the structuring element:\n",
        "morphKernel = cv2.getStructuringElement(cv2.MORPH_RECT, (kernelSize, kernelSize))\n",
        "\n",
        "# Perform closing:\n",
        "binaryImage = cv2.morphologyEx( binaryImage, cv2.MORPH_CLOSE, morphKernel, None, None, opIterations, cv2.BORDER_REFLECT101 )"
      ],
      "metadata": {
        "id": "l8-K2pLfz3bn"
      },
      "execution_count": null,
      "outputs": []
    },
    {
      "cell_type": "code",
      "source": [
        "cv2.imshow(\"Character filling\", binaryImage)\n",
        "text = pytesseract.image_to_string(binaryImage)\n",
        "print(text)\n",
        "cv2.waitKey(0)\n",
        "cv2.destroyAllWindows()"
      ],
      "metadata": {
        "id": "CTsElB9jz5tE"
      },
      "execution_count": null,
      "outputs": []
    },
    {
      "cell_type": "markdown",
      "source": [
        "## Flood filling"
      ],
      "metadata": {
        "id": "dIeD5JWFz_2q"
      }
    },
    {
      "cell_type": "code",
      "source": [
        "# Flood fill (white + black): -- > Tesseract works best with white background and black text.\n",
        "cv2.floodFill(binaryImage, mask=None, seedPoint=(int(0), int(0)), newVal=(255))"
      ],
      "metadata": {
        "id": "kST_tAxd0CTE"
      },
      "execution_count": null,
      "outputs": []
    },
    {
      "cell_type": "code",
      "source": [
        "cv2.imshow(\"Flood filling\", binaryImage)\n",
        "text = pytesseract.image_to_string(binaryImage) # Didn't work all the way.\n",
        "print(text)\n",
        "cv2.waitKey(0)\n",
        "cv2.destroyAllWindows()"
      ],
      "metadata": {
        "id": "i8ZvEShQ0EVp"
      },
      "execution_count": null,
      "outputs": []
    },
    {
      "cell_type": "markdown",
      "source": [
        "## PDF Images"
      ],
      "metadata": {
        "id": "vJeQtT_l0Goy"
      }
    },
    {
      "cell_type": "code",
      "source": [
        "import fitz\n",
        "pdffile = 'Images/Berkshire_hathaway_68.pdf'\n",
        "doc = fitz.open(pdffile)\n",
        "page = doc.loadPage(0)  # number of page\n",
        "pix = page.getPixmap()\n",
        "output_path = \"Images/Berkshire_hathaway_68.png\"\n",
        "pix.writePNG(output_path)"
      ],
      "metadata": {
        "id": "i2prfFDi0JVu"
      },
      "execution_count": null,
      "outputs": []
    },
    {
      "cell_type": "code",
      "source": [
        "image = cv2.imread(output_path)"
      ],
      "metadata": {
        "id": "r8poIbxo0MOY"
      },
      "execution_count": null,
      "outputs": []
    },
    {
      "cell_type": "code",
      "source": [
        "cv2.imshow(\"Sample PDF Image\", image)\n",
        "# Extraction of text from image\n",
        "text = pytesseract.image_to_string(image)\n",
        "print(text)\n",
        "cv2.waitKey(0)\n",
        "cv2.destroyAllWindows()"
      ],
      "metadata": {
        "id": "gVEoLMi70Ptt"
      },
      "execution_count": null,
      "outputs": []
    },
    {
      "cell_type": "code",
      "source": [
        "image = Image.open(output_path)\n",
        "image = image.resize((1782,2322),Image.ANTIALIAS)\n",
        "image.save(fp=\"newimage_1.png\")"
      ],
      "metadata": {
        "id": "19qhVsgZ0Tds"
      },
      "execution_count": null,
      "outputs": []
    },
    {
      "cell_type": "code",
      "source": [
        "image = cv2.imread('newimage_1.png')\n",
        "cv2.imshow(\"Sample PDF Image Resized\", image)\n",
        "# Extraction of text from image\n",
        "text = pytesseract.image_to_string(image)\n",
        "print(text)\n",
        "cv2.waitKey(0)\n",
        "cv2.destroyAllWindows()"
      ],
      "metadata": {
        "id": "RlgM9LbJ0V7D"
      },
      "execution_count": null,
      "outputs": []
    }
  ]
}